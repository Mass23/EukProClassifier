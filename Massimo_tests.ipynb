{
 "cells": [
  {
   "cell_type": "code",
   "execution_count": 71,
   "metadata": {},
   "outputs": [],
   "source": [
    "import numpy as np\n",
    "\n",
    "\n",
    "def CLR_transform(X):\n",
    "    minval = np.min(X[np.nonzero(X)])\n",
    "    X[X == 0] = minval * 0.65\n",
    "    X = np.log(X)\n",
    "    X = X - np.mean(X, axis = 0)\n",
    "    return(X)\n",
    "\n",
    "def load_csv_data(data_path, n_min = 1000, CLR = True):\n",
    "    \"\"\"Loads data and returns y (class labels), tX (features) and ids (event ids)\"\"\"\n",
    "    print('Loading data...')\n",
    "    y = np.genfromtxt(data_path, delimiter=\",\", skip_header=1, dtype=str, usecols=1)\n",
    "    data = np.genfromtxt(data_path, delimiter=\",\", skip_header=1)\n",
    "    ids = data[:, 0].astype(np.int)\n",
    "    X = data[:, 2:]\n",
    "\n",
    "    # convert class labels from strings to binary (0,1)\n",
    "    yb = np.ones(len(y))\n",
    "    yb[np.where(y=='Prokaryote')] = 0\n",
    "    \n",
    "    # Remove rows having less than n_min counts\n",
    "    print('Removing rows with less than n_min counts...')\n",
    "    to_delete = [i for i in range(X.shape[0]) if np.sum(X[i,]) < n_min]\n",
    "    yb   = np.delete(yb,   to_delete, axis=0)\n",
    "    ids = np.delete(ids, to_delete, axis=0)\n",
    "    X   = np.delete(X,   to_delete, axis=0)\n",
    "    \n",
    "    #print('Counts to frequencies...')\n",
    "    #row_sums = np.sum(X, axis = 0)\n",
    "    #X = X / X.sum(axis=1, keepdims=True)\n",
    "    if CLR == True:\n",
    "        print('Counts to CLR transformed...')\n",
    "        X = CLR_transform(X)\n",
    "\n",
    "        print('Data loaded!')\n",
    "        return yb, X, ids\n",
    "    \n",
    "    else:\n",
    "        print('Counts to frequencies...')\n",
    "        X = X / X.sum(axis=1, keepdims=True)\n",
    "        print('Data loaded!')\n",
    "        return yb, X, ids"
   ]
  },
  {
   "cell_type": "code",
   "execution_count": 74,
   "metadata": {},
   "outputs": [
    {
     "name": "stdout",
     "output_type": "stream",
     "text": [
      "Loading data...\n",
      "Removing rows with less than n_min counts...\n",
      "Counts to frequencies...\n",
      "Loading data...\n",
      "Removing rows with less than n_min counts...\n",
      "Counts to CLR transformed...\n",
      "Data loaded!\n"
     ]
    }
   ],
   "source": [
    "y_freq, X_freq, ids = load_csv_data('Counts_n10000_k5_s5000.csv', n_min=2000, CLR=False)\n",
    "y, X, ids = load_csv_data('Counts_n10000_k5_s5000.csv', n_min=2000)"
   ]
  },
  {
   "cell_type": "code",
   "execution_count": 76,
   "metadata": {},
   "outputs": [],
   "source": [
    "from sklearn.decomposition import PCA\n",
    "import matplotlib.pyplot as plt\n",
    "\n",
    "pca = PCA(n_components=10)\n",
    "pca.fit(X_freq)\n",
    "X_pca_freq = pca.transform(X_freq)\n",
    "\n",
    "plt.scatter(X_pca_freq[:,0],X_pca_freq[:,1],c=y)\n",
    "plt.xlabel('PC1')\n",
    "plt.ylabel('PC2')\n",
    "plt.tight_layout()\n",
    "plt.savefig('PCA_frequencies_data.pdf')\n",
    "plt.close()\n",
    "\n",
    "var_pca = pca.explained_variance_ratio_\n",
    "plt.bar(range(0,len(var_pca)), var_pca, alpha=0.5, align='center', label='Individual explained variance')\n",
    "plt.ylabel('Explained variance ratio')\n",
    "plt.xlabel('Principal component index')\n",
    "plt.tight_layout()\n",
    "plt.savefig('PCA_frequencies_eigen.pdf')\n",
    "plt.close()\n",
    "\n",
    "\n",
    "#######################################\n",
    "pca = PCA(n_components=10)\n",
    "pca.fit(X)\n",
    "X_pca = pca.transform(X)\n",
    "\n",
    "plt.scatter(X_pca[:,0],X_pca[:,1],c=y)\n",
    "plt.xlabel('PC1')\n",
    "plt.ylabel('PC2')\n",
    "plt.tight_layout()\n",
    "plt.savefig('PCA_CLR_data.pdf')\n",
    "plt.close()\n",
    "\n",
    "var_pca = pca.explained_variance_ratio_\n",
    "plt.bar(range(0,len(var_pca)), var_pca, alpha=0.5, align='center', label='Individual explained variance')\n",
    "plt.ylabel('Explained variance ratio')\n",
    "plt.xlabel('Principal component index')\n",
    "plt.tight_layout()\n",
    "plt.savefig('PCA_CLR_eigen.pdf')\n",
    "plt.close()"
   ]
  },
  {
   "cell_type": "code",
   "execution_count": null,
   "metadata": {},
   "outputs": [],
   "source": []
  },
  {
   "cell_type": "code",
   "execution_count": 60,
   "metadata": {},
   "outputs": [
    {
     "data": {
      "text/plain": [
       "<AxesSubplot:>"
      ]
     },
     "execution_count": 60,
     "metadata": {},
     "output_type": "execute_result"
    },
    {
     "data": {
      "image/png": "[encoded data removed]",
      "text/plain": [
       "<Figure size 864x432 with 2 Axes>"
      ]
     },
     "metadata": {
      "needs_background": "light"
     },
     "output_type": "display_data"
    }
   ],
   "source": [
    "import seaborn as sns\n",
    "import pandas as pd\n",
    "%matplotlib inline\n",
    "\n",
    "map= pd.DataFrame(pca.components_)\n",
    "plt.figure(figsize=(12,6))\n",
    "sns.heatmap(map,cmap='twilight')\n"
   ]
  },
  {
   "cell_type": "markdown",
   "metadata": {},
   "source": [
    "### Create train and test data:"
   ]
  },
  {
   "cell_type": "code",
   "execution_count": null,
   "metadata": {},
   "outputs": [],
   "source": [
    "#X_train, X_test, y_train, y_test = train_test_split(X, y, test_size=0.2, random_state=23)"
   ]
  },
  {
   "cell_type": "code",
   "execution_count": 95,
   "metadata": {},
   "outputs": [
    {
     "name": "stdout",
     "output_type": "stream",
     "text": [
      "Frequency data:\n",
      "[0.97172775 0.96928447 0.97137871]\n",
      "109.51309704780579\n",
      "CLR data:\n",
      "[0.96282723 0.96474695 0.95671902]\n",
      "36.06466484069824\n"
     ]
    }
   ],
   "source": [
    "from sklearn import svm\n",
    "from sklearn.model_selection import cross_val_score\n",
    "from sklearn import metrics\n",
    "import time\n",
    "\n",
    "print('Frequency data:')\n",
    "t0 = time.time()\n",
    "clf = svm.LinearSVC(max_iter = 10000, C=100)\n",
    "scores = cross_val_score(clf, X_freq, y_freq, cv=3)\n",
    "print(scores)\n",
    "t1 = time.time()\n",
    "print(t1-t0)\n",
    "\n",
    "print('CLR data:')\n",
    "t0 = time.time()\n",
    "clf = svm.LinearSVC(max_iter = 10000, C=100)\n",
    "scores = cross_val_score(clf, X, y, cv=3)\n",
    "print(scores)\n",
    "t1 = time.time()\n",
    "print(t1-t0)"
   ]
  },
  {
   "cell_type": "code",
   "execution_count": 100,
   "metadata": {},
   "outputs": [
    {
     "name": "stdout",
     "output_type": "stream",
     "text": [
      "[0.95514834 0.95253054 0.95811518]\n",
      "8.752347707748413\n",
      "[0.96404887 0.96719023 0.95846422]\n",
      "38.78221797943115\n"
     ]
    }
   ],
   "source": [
    "from sklearn.linear_model import LogisticRegression\n",
    "from sklearn.model_selection import cross_val_score\n",
    "from sklearn import metrics\n",
    "import time\n",
    "\n",
    "t0 = time.time()\n",
    "clf = LogisticRegression(random_state=23, max_iter = 10000)\n",
    "scores = cross_val_score(clf, X_freq, y_freq, cv=3)\n",
    "print(scores)\n",
    "t1 = time.time()\n",
    "print(t1-t0)\n",
    "\n",
    "t0 = time.time()\n",
    "clf = LogisticRegression(random_state=23, max_iter = 10000)\n",
    "scores = cross_val_score(clf, X, y, cv=3)\n",
    "print(scores)\n",
    "t1 = time.time()\n",
    "print(t1-t0)"
   ]
  },
  {
   "cell_type": "code",
   "execution_count": 70,
   "metadata": {},
   "outputs": [
    {
     "name": "stdout",
     "output_type": "stream",
     "text": [
      "[0.98741624 0.98725282 0.9887218 ]\n",
      "15.632694959640503\n"
     ]
    }
   ],
   "source": [
    "from sklearn.neural_network import MLPClassifier\n",
    "from sklearn.model_selection import cross_val_score\n",
    "from sklearn import metrics\n",
    "import time\n",
    "\n",
    "t0 = time.time()\n",
    "clf = MLPClassifier(hidden_layer_sizes=(100,), random_state=23, solver='adam', max_iter=200)\n",
    "scores = cross_val_score(clf, X, y, cv=3)\n",
    "print(scores)\n",
    "t1 = time.time()\n",
    "print(t1-t0)\n",
    "\n"
   ]
  },
  {
   "cell_type": "markdown",
   "metadata": {},
   "source": []
  },
  {
   "cell_type": "code",
   "execution_count": null,
   "metadata": {},
   "outputs": [],
   "source": [
    "import matplotlib.pyplot as plt\n",
    "\n",
    "plt.plot(hidden_sizes, mean_accuracy)"
   ]
  },
  {
   "cell_type": "markdown",
   "metadata": {},
   "source": [
    "No difference in accuracy when at least 200 iterations for 25,50,75,100 hidden nodes. 50 is slightly optimal with 3-fold CV. We will now test adding layers, and see how it improves the accuracy, still with 200 max iter."
   ]
  },
  {
   "cell_type": "code",
   "execution_count": 92,
   "metadata": {},
   "outputs": [
    {
     "name": "stdout",
     "output_type": "stream",
     "text": [
      "54.09356212615967\n",
      "75.9221441745758\n",
      "105.57220315933228\n",
      "128.5816650390625\n",
      "152.2153549194336\n",
      "168.81383323669434\n",
      "179.69444298744202\n",
      "199.73330187797546\n",
      "219.94712018966675\n",
      "257.4192600250244\n"
     ]
    }
   ],
   "source": [
    "import time\n",
    "n_nodes = [50,100,150,200,250,300,350,400,450,500]\n",
    "scores = np.empty((0,10))\n",
    "times = []\n",
    "time_l = np.array(times)\n",
    "\n",
    "for n in n_nodes:\n",
    "    t0 = time.time()\n",
    "    clf = MLPClassifier(hidden_layer_sizes=(n,), random_state=23,solver='adam', max_iter=1000)\n",
    "    cv_res = cross_val_score(clf, X, y, cv=10)\n",
    "    scores = np.vstack((scores, cv_res))\n",
    "    t1 = time.time()\n",
    "    timing = t1 - t0\n",
    "    print(timing)\n",
    "    time_l = np.append(time_l, timing)\n",
    "\n"
   ]
  },
  {
   "cell_type": "code",
   "execution_count": 94,
   "metadata": {},
   "outputs": [
    {
     "data": {
      "image/png": "[encoded data removed]",
      "text/plain": [
       "<Figure size 432x288 with 2 Axes>"
      ]
     },
     "metadata": {
      "needs_background": "light"
     },
     "output_type": "display_data"
    }
   ],
   "source": [
    "# create figure and axis objects with subplots()\n",
    "fig,ax = plt.subplots()\n",
    "ax.plot(n_nodes, np.mean(scores, axis = 1), color=\"black\", marker=\"o\")\n",
    "ax.set_xlabel(\"Node number in the hidden layer\",fontsize=14)\n",
    "ax.set_ylabel(\"Mean accuracy (10-fold CV)\",color=\"black\",fontsize=14)\n",
    "\n",
    "ax2=ax.twinx()\n",
    "\n",
    "ax2.plot(n_nodes, time_l,color=\"blue\",marker=\"o\")\n",
    "ax2.set_ylabel(\"Computing time [sec]\",color=\"blue\",fontsize=14)\n",
    "plt.show()\n",
    "\n",
    "fig.savefig('NN_n_nodes.pdf',bbox_inches='tight')"
   ]
  },
  {
   "cell_type": "code",
   "execution_count": null,
   "metadata": {},
   "outputs": [],
   "source": []
  }
 ],
 "metadata": {
  "kernelspec": {
   "display_name": "Python 3",
   "language": "python",
   "name": "python3"
  },
  "language_info": {
   "codemirror_mode": {
    "name": "ipython",
    "version": 3
   },
   "file_extension": ".py",
   "mimetype": "text/x-python",
   "name": "python",
   "nbconvert_exporter": "python",
   "pygments_lexer": "ipython3",
   "version": "3.7.8"
  }
 },
 "nbformat": 4,
 "nbformat_minor": 4
}
