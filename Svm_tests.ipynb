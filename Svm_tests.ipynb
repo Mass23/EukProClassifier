{
 "cells": [
  {
   "cell_type": "code",
   "execution_count": 1,
   "metadata": {},
   "outputs": [],
   "source": [
    "def optimize_rbf(X_train, y_train, X_test, y_test):\n",
    "    c_range = np.logspace(-2, 10, num = 20) ####check ranges\n",
    "    gamma_range = np.logspace(-5, 10, num = 20)\n",
    "    cols = ['C', 'gamma', 'accuracy', 'time']\n",
    "    df = pd.DataFrame(columns = cols)\n",
    "    \n",
    "    for c in c_range:\n",
    "        for g in gamma_range:\n",
    "            t1 = time()\n",
    "            classif = make_pipeline(StandardScaler(), SVC(C = c, gamma = g))\n",
    "            accuracy, _ = fit_classifier(classif, X_train, y_train, X_test, y_test)\n",
    "            t2 = time()\n",
    "            t = round(t2 - t1, 5)\n",
    "            row = [c, g, accuracy, t]\n",
    "            df = df.append(pd.DataFrame([row], columns = cols), ignore_index = True)\n",
    "    return df      \n",
    "    "
   ]
  },
  {
   "cell_type": "code",
   "execution_count": 2,
   "metadata": {},
   "outputs": [],
   "source": [
    "def optimize_linear_svc(X_train, y_train, X_test, y_test):\n",
    "    c_range = np.logspace(-2, 10, num = 20) ####check ranges\n",
    "    cols = ['C', 'accuracy', 'time']\n",
    "    df = pd.DataFrame(columns = cols)\n",
    "    \n",
    "    for c in c_range:\n",
    "        for g in gamma_range:\n",
    "            t1 = time()\n",
    "            classif = make_pipeline(StandardScaler(), LinearSVC(C = c))\n",
    "            accuracy, _ = fit_classifier(classif, X_train, y_train, X_test, y_test)\n",
    "            t2 = time()\n",
    "            t = round(t2 - t1, 5)\n",
    "            row = [c, accuracy, t]\n",
    "            df = df.append(pd.DataFrame([row], columns = cols), ignore_index = True)\n",
    "    return df  "
   ]
  },
  {
   "cell_type": "code",
   "execution_count": 3,
   "metadata": {},
   "outputs": [],
   "source": [
    "def optimize_poly(X_train, y_train, X_test, y_test):\n",
    "    max_degree = 20 ### check\n",
    "    cols = ['degree', 'accuracy', 'time']\n",
    "    df = pd.DataFrame(columns = cols)\n",
    "    \n",
    "    for deg in range(max_degree):\n",
    "        t1 = time()\n",
    "        classif = make_pipeline(StandardScaler(), LinearSVC(C = c))\n",
    "        accuracy, _ = fit_classifier(classif, X_train, y_train, X_test, y_test)\n",
    "        t2 = time()\n",
    "        t = round(t2 - t1, 5)\n",
    "        row = [deg, accuracy, t]\n",
    "        df = df.append(pd.DataFrame([row], columns = cols), ignore_index = True)\n",
    "    return df "
   ]
  },
  {
   "cell_type": "code",
   "execution_count": null,
   "metadata": {},
   "outputs": [],
   "source": []
  }
 ],
 "metadata": {
  "kernelspec": {
   "display_name": "Python 3",
   "language": "python",
   "name": "python3"
  },
  "language_info": {
   "codemirror_mode": {
    "name": "ipython",
    "version": 3
   },
   "file_extension": ".py",
   "mimetype": "text/x-python",
   "name": "python",
   "nbconvert_exporter": "python",
   "pygments_lexer": "ipython3",
   "version": "3.6.9"
  }
 },
 "nbformat": 4,
 "nbformat_minor": 4
}
