{
 "cells": [
  {
   "cell_type": "code",
   "execution_count": 76,
   "metadata": {},
   "outputs": [],
   "source": [
    "import importlib\n",
    "\n",
    "import numpy as np\n",
    "import matplotlib.pyplot as plt\n",
    "import pandas as pd\n",
    "\n",
    "from helpers import *\n",
    "# importlib.reload(helpers)\n",
    "# from skbio.stats.composition import clr, ilr\n",
    "from sklearn.model_selection import train_test_split\n",
    "from sklearn.metrics import balanced_accuracy_score\n",
    "\n",
    "from sklearn import svm\n",
    "from sklearn.svm import LinearSVC\n",
    "from sklearn.linear_model import LogisticRegression\n",
    "from sklearn.ensemble import RandomForestClassifier\n",
    "from sklearn.neural_network import MLPClassifier\n",
    "\n",
    "from time import time"
   ]
  },
  {
   "cell_type": "code",
   "execution_count": 73,
   "metadata": {},
   "outputs": [],
   "source": [
    "seed = 42\n",
    "n_jobs = None\n",
    "\n",
    "lin_svc = svm.LinearSVC(random_state=seed)\n",
    "ker_svc = svm.SVC(random_state=seed)\n",
    "log_reg = LogisticRegression(max_iter=10000, random_state=seed, n_jobs=n_jobs)\n",
    "rf = RandomForestClassifier(max_depth=10, random_state=seed, n_jobs=n_jobs)\n",
    "nn = MLPClassifier(solver='adam', max_iter=500, random_state=seed)\n",
    "methods = {'linear svc':lin_svc, 'kernel svc':ker_svc, 'logistic regression':log_reg, 'random forest':rf, 'neural network':nn}"
   ]
  },
  {
   "cell_type": "code",
   "execution_count": 72,
   "metadata": {},
   "outputs": [
    {
     "name": "stdout",
     "output_type": "stream",
     "text": [
      "Loading data...\n",
      "Removing rows with less than n_min counts...\n",
      "Counts to frequencies...\n",
      "Data loaded!\n",
      "Loading data...\n",
      "Removing rows with less than n_min counts...\n",
      "Counts to CLR transformed...\n",
      "Data loaded!\n"
     ]
    }
   ],
   "source": [
    "datas = {}\n",
    "\n",
    "y, X, _ = load_csv_data(\"Counts_n10000_k5_s5000.csv\")\n",
    "X_train, X_test, y_train, y_test = train_test_split(X, y, random_state=seed)\n",
    "datas['freq'] = (X_train, X_test, y_train, y_test)\n",
    "\n",
    "y, X, _ = load_csv_data(\"Counts_n10000_k5_s5000.csv\", CLR_scale=0.65)\n",
    "# X = clr(X)\n",
    "X_train, X_test, y_train, y_test = train_test_split(X, y, random_state=seed)\n",
    "datas['clr'] = (X_train, X_test, y_train, y_test)\n",
    "\n",
    "# X= ilr(X)\n",
    "# X_train, X_test, y_train, y_test = train_test_split(X, y, random_state=seed)\n",
    "# datas['ilr'] = (X_train, X_test, y_train, y_test)"
   ]
  },
  {
   "cell_type": "code",
   "execution_count": null,
   "metadata": {},
   "outputs": [
    {
     "name": "stdout",
     "output_type": "stream",
     "text": [
      "linear svc with freq\n",
      "linear svc with clr\n"
     ]
    },
    {
     "name": "stderr",
     "output_type": "stream",
     "text": [
      "/Users/anita/opt/anaconda3/lib/python3.7/site-packages/sklearn/svm/_base.py:947: ConvergenceWarning: Liblinear failed to converge, increase the number of iterations.\n",
      "  \"the number of iterations.\", ConvergenceWarning)\n"
     ]
    },
    {
     "name": "stdout",
     "output_type": "stream",
     "text": [
      "kernel svc with freq\n",
      "kernel svc with clr\n",
      "logistic regression with freq\n",
      "logistic regression with clr\n",
      "random forest with freq\n",
      "random forest with clr\n",
      "neural network with freq\n"
     ]
    }
   ],
   "source": [
    "verbose = True\n",
    "\n",
    "df = pd.DataFrame(columns=['method', 'transformation',\n",
    "                           'accuracy', 'euk_acc', 'pro_acc',\n",
    "                           'learning time', 'prediction time'])\n",
    "for m in methods:\n",
    "    for t in datas:\n",
    "        if verbose:\n",
    "            print('{} with {}'.format(m, t))\n",
    "        \n",
    "        X_train, X_test, y_train, y_test = datas[t]\n",
    "        \n",
    "        t1 = time()\n",
    "        methods[m].fit(X_train, y_train)\n",
    "        t2 = time()\n",
    "        y_pred = methods[m].predict(X_test)\n",
    "        t3 = time()\n",
    "        \n",
    "        bal_acc = balanced_accuracy_score(y_test, y_pred)\n",
    "        euk_acc = euk_accuracy(y_test, y_pred)\n",
    "        pro_acc = pro_accuracy(y_test, y_pred)\n",
    "        \n",
    "        res = {'method':m, 'transformation':t,\n",
    "               'accuracy':bal_acc, 'euk_acc':euk_acc, 'pro_acc':pro_acc,\n",
    "               'learning time':(t2 - t1), 'prediction time':(t3-t2)}\n",
    "        df.append(res, ignore_index=True)"
   ]
  },
  {
   "cell_type": "code",
   "execution_count": 69,
   "metadata": {},
   "outputs": [
    {
     "name": "stdout",
     "output_type": "stream",
     "text": [
      "test\n",
      "5\n",
      "6\n",
      "8\n"
     ]
    }
   ],
   "source": [
    "df"
   ]
  }
 ],
 "metadata": {
  "kernelspec": {
   "display_name": "Python 3",
   "language": "python",
   "name": "python3"
  },
  "language_info": {
   "codemirror_mode": {
    "name": "ipython",
    "version": 3
   },
   "file_extension": ".py",
   "mimetype": "text/x-python",
   "name": "python",
   "nbconvert_exporter": "python",
   "pygments_lexer": "ipython3",
   "version": "3.7.6"
  }
 },
 "nbformat": 4,
 "nbformat_minor": 4
}
