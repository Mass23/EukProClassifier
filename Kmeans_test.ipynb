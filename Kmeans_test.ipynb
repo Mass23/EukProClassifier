{
 "cells": [
  {
   "cell_type": "code",
   "execution_count": 2,
   "metadata": {},
   "outputs": [],
   "source": [
    "import numpy as np\n",
    "import matplotlib.pyplot as plt\n",
    "import pandas as pd\n",
    "\n",
    "from helpers import *\n",
    "from sklearn.model_selection import train_test_split\n",
    "from sklearn.metrics import balanced_accuracy_score\n",
    "from sklearn.base import clone\n",
    "from sklearn import svm\n",
    "from sklearn.svm import LinearSVC\n",
    "\n",
    "seed = 42\n",
    "verbose = 1\n",
    "filename = \"Counts_n10000_k5_s5000.csv\"\n",
    "\n",
    "lin_svc = svm.LinearSVC(max_iter=10000, random_state=seed)"
   ]
  },
  {
   "cell_type": "code",
   "execution_count": 4,
   "metadata": {},
   "outputs": [
    {
     "name": "stdout",
     "output_type": "stream",
     "text": [
      "Loading data...\n",
      "Removing rows with less than n_min counts...\n",
      "Data loaded!\n"
     ]
    }
   ],
   "source": [
    "y, X, _ = load_csv_data(filename)\n",
    "\n",
    "X_freq = FREQ_transform(X)"
   ]
  },
  {
   "cell_type": "code",
   "execution_count": 10,
   "metadata": {},
   "outputs": [
    {
     "name": "stdout",
     "output_type": "stream",
     "text": [
      "2\n",
      "3\n",
      "4\n",
      "5\n",
      "6\n",
      "7\n"
     ]
    }
   ],
   "source": [
    "from sklearn.cluster import KMeans\n",
    "\n",
    "kmeans_X = X_freq.T\n",
    "k_list = []\n",
    "scores_list = []\n",
    "\n",
    "for k in range(2,8):\n",
    "    print(k)\n",
    "    kmeans = KMeans(n_clusters=k, random_state=seed).fit(kmeans_X)\n",
    "    k_list.append(k)\n",
    "    scores_list.append(kmeans.inertia_)\n",
    "    "
   ]
  },
  {
   "cell_type": "code",
   "execution_count": 11,
   "metadata": {},
   "outputs": [
    {
     "data": {
      "text/plain": [
       "[<matplotlib.lines.Line2D at 0x7fbd054863d0>]"
      ]
     },
     "execution_count": 11,
     "metadata": {},
     "output_type": "execute_result"
    },
    {
     "data": {
      "image/png": "[encoded data removed]",
      "text/plain": [
       "<Figure size 432x288 with 1 Axes>"
      ]
     },
     "metadata": {
      "needs_background": "light"
     },
     "output_type": "display_data"
    }
   ],
   "source": [
    "plt.plot(k_list,scores_list)"
   ]
  },
  {
   "cell_type": "code",
   "execution_count": 12,
   "metadata": {},
   "outputs": [
    {
     "name": "stdout",
     "output_type": "stream",
     "text": [
      "KMeans(algorithm='auto', copy_x=True, init='k-means++', max_iter=300,\n",
      "       n_clusters=3, n_init=10, n_jobs=None, precompute_distances='auto',\n",
      "       random_state=42, tol=0.0001, verbose=0)\n"
     ]
    }
   ],
   "source": [
    "kmeans = KMeans(n_clusters=3, random_state=seed).fit(kmeans_X)\n",
    "print(kmeans)"
   ]
  },
  {
   "cell_type": "code",
   "execution_count": 23,
   "metadata": {},
   "outputs": [
    {
     "name": "stdout",
     "output_type": "stream",
     "text": [
      "[0, 1, 2]\n",
      "18356\n"
     ]
    }
   ],
   "source": [
    "print(list(set(kmeans.labels_)))\n",
    "print(kmeans_X.shape[1])"
   ]
  },
  {
   "cell_type": "code",
   "execution_count": 96,
   "metadata": {},
   "outputs": [],
   "source": [
    "def create_kmeans_data(data, labels):\n",
    "    kmeans_trans_X = np.empty((data.shape[0],len(set(labels))))\n",
    "    \n",
    "    labels_list = list(set(labels))\n",
    "    for cluster_label in labels_list:\n",
    "        cluster_cols = np.where(kmeans.labels_ == cluster_label)[0]\n",
    "        cluster_sums = np.sum(data[:,cluster_cols], axis = 1)\n",
    "        kmeans_trans_X[:,[cluster_label]] = np.expand_dims(cluster_sums,axis=1)\n",
    "    return kmeans_trans_X\n",
    "\n",
    "def kmeans_optimisation(X, y, method):\n",
    "    X_t = X.T\n",
    "    best_k = 0\n",
    "    best_acc = [0,0,0]\n",
    "    best_l_time = 0\n",
    "    best_p_time = 0\n",
    "    \n",
    "    for k in [2,4,8,16,32,64,128,256,512,1024]:\n",
    "        print('  - K-means, k = ' + str(k))\n",
    "        t1 = time()\n",
    "        kmeans = KMeans(n_clusters=k, random_state=seed).fit(X_t)\n",
    "        kmeans_X = create_kmeans_data(X_freq, kmeans.labels_)\n",
    "    \n",
    "        X_train, X_test, y_train, y_test = train_test_split(kmeans_X, y, random_state=seed)\n",
    "        lin_svc.fit(X_train, y_train)  \n",
    "        t2 = time.time()\n",
    "        y_pred = lin_svc.predict(X_test)\n",
    "        t3 = time.time()\n",
    "    \n",
    "        bal_acc = balanced_accuracy_score(y_test, y_pred)\n",
    "        if bal_acc > best_acc[0]:\n",
    "            best_k = k\n",
    "            best_acc = [bal_acc, euk_accuracy(y_test, y_pred), pro_accuracy(y_test, y_pred)]\n",
    "            best_l_time = t2 - t1\n",
    "            best_p_time = t3 - t1\n",
    "            \n",
    "    return({'method':m, 'transformation': 'k-means',\n",
    "               'accuracy':best_acc[0], 'euk_acc':best_acc[1], 'pro_acc':best_acc[2],\n",
    "               'learning time':(t2 - t1), 'prediction time':(t3 - t2)})\n",
    "    "
   ]
  },
  {
   "cell_type": "code",
   "execution_count": 108,
   "metadata": {},
   "outputs": [
    {
     "name": "stdout",
     "output_type": "stream",
     "text": [
      "K-means, k = 200\n",
      "K-means, k = 250\n",
      "K-means, k = 300\n",
      "K-means, k = 350\n"
     ]
    }
   ],
   "source": [
    "import time\n",
    "from sklearn.neural_network import MLPClassifier\n",
    "\n",
    "X_t = X_freq.T\n",
    "k_list = []\n",
    "scores_list = []\n",
    "time_list = []\n",
    "nn = MLPClassifier(solver='adam', max_iter=200, random_state=seed)\n",
    "lin_svc = svm.LinearSVC(C=100,max_iter=10000, random_state=seed)\n",
    "\n",
    "for k in [200,250,300,350]:\n",
    "    print('K-means, k = ' + str(k))\n",
    "    kmeans = KMeans(n_clusters=k, random_state=seed).fit(X_t)\n",
    "    kmeans_X = create_kmeans_data(X_freq, kmeans.labels_)\n",
    "    \n",
    "    X_train, X_test, y_train, y_test = train_test_split(kmeans_X, y, random_state=seed)\n",
    "    lin_svc.fit(X_train, y_train)  \n",
    "    t0 = time.time()\n",
    "    y_pred = lin_svc.predict(X_test)\n",
    "    t1 = time.time()\n",
    "    el_time = t1 - t0\n",
    "    \n",
    "    bal_acc = balanced_accuracy_score(y_test, y_pred)\n",
    "    \n",
    "    k_list.append(k)\n",
    "    scores_list.append(bal_acc)\n",
    "    time_list.append(el_time)"
   ]
  },
  {
   "cell_type": "code",
   "execution_count": 109,
   "metadata": {},
   "outputs": [
    {
     "data": {
      "text/plain": [
       "[<matplotlib.lines.Line2D at 0x7fbd38d3ce10>]"
      ]
     },
     "execution_count": 109,
     "metadata": {},
     "output_type": "execute_result"
    },
    {
     "data": {
      "image/png": "[encoded data removed]",
      "text/plain": [
       "<Figure size 432x288 with 1 Axes>"
      ]
     },
     "metadata": {
      "needs_background": "light"
     },
     "output_type": "display_data"
    }
   ],
   "source": [
    "plt.plot(k_list, scores_list)"
   ]
  },
  {
   "cell_type": "code",
   "execution_count": 101,
   "metadata": {},
   "outputs": [
    {
     "data": {
      "text/plain": [
       "[0.48046887431438373,\n",
       " 0.8211542701361743,\n",
       " 0.8569257550166696,\n",
       " 0.9180198462072311,\n",
       " 0.9269113381427923,\n",
       " 0.9315466890077089,\n",
       " 0.9338729436304065,\n",
       " 0.9278116259051286,\n",
       " 0.9205197934859503,\n",
       " 0.909843638266831]"
      ]
     },
     "execution_count": 101,
     "metadata": {},
     "output_type": "execute_result"
    }
   ],
   "source": [
    "scores_list"
   ]
  },
  {
   "cell_type": "code",
   "execution_count": null,
   "metadata": {},
   "outputs": [],
   "source": []
  }
 ],
 "metadata": {
  "kernelspec": {
   "display_name": "Python 3",
   "language": "python",
   "name": "python3"
  },
  "language_info": {
   "codemirror_mode": {
    "name": "ipython",
    "version": 3
   },
   "file_extension": ".py",
   "mimetype": "text/x-python",
   "name": "python",
   "nbconvert_exporter": "python",
   "pygments_lexer": "ipython3",
   "version": "3.7.6"
  }
 },
 "nbformat": 4,
 "nbformat_minor": 4
}
